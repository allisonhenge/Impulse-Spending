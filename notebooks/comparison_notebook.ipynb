{
 "nbformat": 4,
 "nbformat_minor": 2,
 "metadata": {
  "language_info": {
   "name": "python",
   "codemirror_mode": {
    "name": "ipython",
    "version": 3
   },
   "version": "3.7.4-final"
  },
  "orig_nbformat": 2,
  "file_extension": ".py",
  "mimetype": "text/x-python",
  "name": "python",
  "npconvert_exporter": "python",
  "pygments_lexer": "ipython3",
  "version": 3,
  "kernelspec": {
   "name": "python37464bitbaseconda00633321aef34503b80c69b412f7a6cc",
   "display_name": "Python 3.7.4 64-bit ('base': conda)"
  }
 },
 "cells": [
  {
   "cell_type": "code",
   "execution_count": 1,
   "metadata": {},
   "outputs": [],
   "source": [
    "import numpy as np\n",
    "import pandas as pd\n",
    "\n",
    "from pandas import ExcelWriter\n",
    "from pandas import ExcelFile"
   ]
  },
  {
   "cell_type": "code",
   "execution_count": 2,
   "metadata": {},
   "outputs": [],
   "source": [
    "flag_groupings = pd.read_excel('../../data/flag-groupings.xlsx')\n",
    "clean_sales_data = pd.read_csv('../data/clean_sales_data.csv')"
   ]
  },
  {
   "cell_type": "code",
   "execution_count": 3,
   "metadata": {},
   "outputs": [
    {
     "data": {
      "text/plain": "['The Make Believe Hotel', '$2.5', 25873.45, 5854.78, '0.68 (68.0%)', 0.23]"
     },
     "execution_count": 3,
     "metadata": {},
     "output_type": "execute_result"
    }
   ],
   "source": [
    "comparison_df = clean_sales_data\n",
    "\n",
    "def compare_hotels(comparison_df):\n",
    "    cust_name = 'The Make Believe Hotel'\n",
    "    calc_SPOR = 2.50\n",
    "    est_SPOR = '$' + str(calc_SPOR)\n",
    "    calc_profit_margin = 0.68\n",
    "    est_profit_margin = str(calc_profit_margin)+' ('+str(calc_profit_margin*100)+'%)' \n",
    "    est_revenue = 25873.45\n",
    "    change_revenue = 5854.78\n",
    "    change_profit_margin = 0.23\n",
    "\n",
    "    predicted_performance = [cust_name, est_SPOR, est_revenue, change_revenue, est_profit_margin, change_profit_margin]\n",
    "    return predicted_performance\n",
    "\n",
    "predicted_performance = compare_hotels(comparison_df)\n",
    "predicted_performance"
   ]
  },
  {
   "cell_type": "code",
   "execution_count": 4,
   "metadata": {},
   "outputs": [],
   "source": [
    "unique_brands = list(flag_groupings['Brand'].unique()) + ['Other', 'Retail', 'Apartment']\n",
    "\n",
    "def get_brand_flags(brand):\n",
    "    brand_flags_mask = flag_groupings['Brand'] == brand\n",
    "    brand_df = flag_groupings[brand_flags_mask]\n",
    "    brand_unique_flags = list(brand_df['Flag'].unique()) + ['Other']\n",
    "    return brand_unique_flags\n",
    "\n",
    "brand_and_flags = {}\n",
    "for brand in unique_brands:\n",
    "    brand_and_flags[brand] = get_brand_flags(brand)"
   ]
  },
  {
   "cell_type": "code",
   "execution_count": 5,
   "metadata": {},
   "outputs": [],
   "source": [
    "# name = 'The Make Believe Hampton'\n",
    "# brand = 'Hilto'\n",
    "# flag = 'Hampton Inn by Hilton'\n",
    "# num_rooms = 303\n",
    "# room_range = [273, 333]\n",
    "# size_subset = 5\n",
    "# hotel_type = 'Focused Service'\n",
    "# hotel_group = 'Select Service'\n",
    "# specialty_service = 'None'\n",
    "# occupancy_rate = 0.8\n",
    "# revenue = 20018.67\n",
    "# profit_margin = 0.45"
   ]
  },
  {
   "cell_type": "code",
   "execution_count": 6,
   "metadata": {},
   "outputs": [],
   "source": [
    "# name = 'The Make Believe Crowne'\n",
    "# brand = 'IHG'\n",
    "# flag = 'Crowne Plaza'\n",
    "# num_rooms = 303\n",
    "# room_range = [273, 333]\n",
    "# size_subset = 5\n",
    "# hotel_type = 'Full Service'\n",
    "# hotel_group = 'Full Service'\n",
    "# specialty_service = 'None'\n",
    "# occupancy_rate = 0.8\n",
    "# revenue = 20018.67\n",
    "# profit_margin = 0.45"
   ]
  },
  {
   "cell_type": "code",
   "execution_count": 7,
   "metadata": {},
   "outputs": [],
   "source": [
    "name = 'The Make Believe Sheraton'\n",
    "brand = 'Other'\n",
    "flag = 'Sheraton'\n",
    "num_rooms = 303\n",
    "room_range = [273, 333]\n",
    "size_subset = 5\n",
    "hotel_type = 'Full Service'\n",
    "hotel_group = 'Full Service'\n",
    "specialty_service = 'None'\n",
    "occupancy_rate = 0.8\n",
    "revenue = 20018.67\n",
    "profit_margin = 0.45"
   ]
  },
  {
   "cell_type": "code",
   "execution_count": 8,
   "metadata": {},
   "outputs": [
    {
     "data": {
      "text/html": "<div>\n<style scoped>\n    .dataframe tbody tr th:only-of-type {\n        vertical-align: middle;\n    }\n\n    .dataframe tbody tr th {\n        vertical-align: top;\n    }\n\n    .dataframe thead th {\n        text-align: right;\n    }\n</style>\n<table border=\"1\" class=\"dataframe\">\n  <thead>\n    <tr style=\"text-align: right;\">\n      <th></th>\n      <th>Property Name</th>\n      <th>Property Code</th>\n      <th>Brand</th>\n      <th>#Rooms</th>\n      <th>Activation Date</th>\n      <th>Revenue</th>\n      <th>Profit Margin</th>\n      <th>Gross Profit</th>\n      <th>Flag</th>\n      <th>Size Subset</th>\n      <th>SPOR</th>\n      <th>Group</th>\n      <th>Type</th>\n    </tr>\n  </thead>\n  <tbody>\n    <tr>\n      <td>0</td>\n      <td>Hilton Garden Inn Times Square</td>\n      <td>NYCMW</td>\n      <td>Hilto</td>\n      <td>369.0</td>\n      <td>2017-10-27</td>\n      <td>48190.59</td>\n      <td>0.72970</td>\n      <td>35164.64</td>\n      <td>Hilton Garden Inn</td>\n      <td>5</td>\n      <td>6.272227</td>\n      <td>Select Service</td>\n      <td>Focused Service</td>\n    </tr>\n    <tr>\n      <td>1</td>\n      <td>InterContinental New Orleans</td>\n      <td>MSYHA</td>\n      <td>IHG</td>\n      <td>484.0</td>\n      <td>2018-09-20</td>\n      <td>22829.80</td>\n      <td>0.67301</td>\n      <td>15364.72</td>\n      <td>InterContinental</td>\n      <td>5</td>\n      <td>2.265388</td>\n      <td>Full Service</td>\n      <td>Full Service</td>\n    </tr>\n    <tr>\n      <td>2</td>\n      <td>DoubleTree Suites by Hilton Hotel Boston - Cam...</td>\n      <td>BOSSB</td>\n      <td>Hilto</td>\n      <td>308.0</td>\n      <td>2018-06-11</td>\n      <td>22488.70</td>\n      <td>0.69884</td>\n      <td>15715.96</td>\n      <td>DoubleTree by Hilton</td>\n      <td>5</td>\n      <td>3.506707</td>\n      <td>Full Service</td>\n      <td>Full Service</td>\n    </tr>\n    <tr>\n      <td>3</td>\n      <td>Crowne Plaza Lansing West</td>\n      <td>LANCP</td>\n      <td>IHG</td>\n      <td>212.0</td>\n      <td>2018-10-26</td>\n      <td>611.00</td>\n      <td>0.60129</td>\n      <td>367.39</td>\n      <td>Crowne Plaza</td>\n      <td>5</td>\n      <td>0.138418</td>\n      <td>Full service</td>\n      <td>Full service</td>\n    </tr>\n    <tr>\n      <td>5</td>\n      <td>Embassy Suites Portland Washington Square</td>\n      <td>PDXBV</td>\n      <td>Hilto</td>\n      <td>356.0</td>\n      <td>2015-12-17</td>\n      <td>13588.00</td>\n      <td>0.62689</td>\n      <td>8518.14</td>\n      <td>Embassy Suites</td>\n      <td>5</td>\n      <td>1.833122</td>\n      <td>All Suites</td>\n      <td>All Suites</td>\n    </tr>\n    <tr>\n      <td>...</td>\n      <td>...</td>\n      <td>...</td>\n      <td>...</td>\n      <td>...</td>\n      <td>...</td>\n      <td>...</td>\n      <td>...</td>\n      <td>...</td>\n      <td>...</td>\n      <td>...</td>\n      <td>...</td>\n      <td>...</td>\n      <td>...</td>\n    </tr>\n    <tr>\n      <td>2464</td>\n      <td>Crowne Plaza Downtown Denver</td>\n      <td>IHG-DENDT</td>\n      <td>IHG</td>\n      <td>380.0</td>\n      <td>2017-07-06</td>\n      <td>23854.50</td>\n      <td>0.61742</td>\n      <td>14728.28</td>\n      <td>Crowne Plaza</td>\n      <td>5</td>\n      <td>3.014898</td>\n      <td>Full service</td>\n      <td>Full service</td>\n    </tr>\n    <tr>\n      <td>2476</td>\n      <td>The Saratoga Hilton (Gift Shop)</td>\n      <td>ALBSA:Gift Shop</td>\n      <td>Hilto</td>\n      <td>245.0</td>\n      <td>2017-07-17</td>\n      <td>2204.35</td>\n      <td>0.56618</td>\n      <td>1248.05</td>\n      <td>Hilton Hotels &amp; Resorts</td>\n      <td>5</td>\n      <td>0.432116</td>\n      <td>Full Service</td>\n      <td>Full Service</td>\n    </tr>\n    <tr>\n      <td>2494</td>\n      <td>Crowne Plaza Downtown Denver</td>\n      <td>IHG-DENDT</td>\n      <td>IHG</td>\n      <td>380.0</td>\n      <td>2017-07-06</td>\n      <td>25405.75</td>\n      <td>0.62211</td>\n      <td>15805.16</td>\n      <td>Crowne Plaza</td>\n      <td>5</td>\n      <td>3.210956</td>\n      <td>Full service</td>\n      <td>Full service</td>\n    </tr>\n    <tr>\n      <td>2526</td>\n      <td>Embassy Suites by Hilton Memphis</td>\n      <td>MEMPE</td>\n      <td>Hilto</td>\n      <td>220.0</td>\n      <td>2018-01-31</td>\n      <td>1282.87</td>\n      <td>0.64367</td>\n      <td>825.74</td>\n      <td>Embassy Suites</td>\n      <td>5</td>\n      <td>0.280057</td>\n      <td>All Suites</td>\n      <td>All Suites</td>\n    </tr>\n    <tr>\n      <td>2537</td>\n      <td>Hotel MdR Marina Del Ray - a DoubleTree by Hilton</td>\n      <td>LAXMA</td>\n      <td>Hilto</td>\n      <td>283.0</td>\n      <td>2018-01-23</td>\n      <td>1120.35</td>\n      <td>0.60809</td>\n      <td>681.27</td>\n      <td>DoubleTree by Hilton</td>\n      <td>5</td>\n      <td>0.190131</td>\n      <td>Full Service</td>\n      <td>Full Service</td>\n    </tr>\n  </tbody>\n</table>\n<p>543 rows × 13 columns</p>\n</div>",
      "text/plain": "                                          Property Name    Property Code  \\\n0                        Hilton Garden Inn Times Square            NYCMW   \n1                          InterContinental New Orleans            MSYHA   \n2     DoubleTree Suites by Hilton Hotel Boston - Cam...            BOSSB   \n3                             Crowne Plaza Lansing West            LANCP   \n5             Embassy Suites Portland Washington Square            PDXBV   \n...                                                 ...              ...   \n2464                       Crowne Plaza Downtown Denver        IHG-DENDT   \n2476                    The Saratoga Hilton (Gift Shop)  ALBSA:Gift Shop   \n2494                       Crowne Plaza Downtown Denver        IHG-DENDT   \n2526                   Embassy Suites by Hilton Memphis            MEMPE   \n2537  Hotel MdR Marina Del Ray - a DoubleTree by Hilton            LAXMA   \n\n      Brand  #Rooms Activation Date   Revenue  Profit Margin  Gross Profit  \\\n0     Hilto   369.0      2017-10-27  48190.59        0.72970      35164.64   \n1       IHG   484.0      2018-09-20  22829.80        0.67301      15364.72   \n2     Hilto   308.0      2018-06-11  22488.70        0.69884      15715.96   \n3       IHG   212.0      2018-10-26    611.00        0.60129        367.39   \n5     Hilto   356.0      2015-12-17  13588.00        0.62689       8518.14   \n...     ...     ...             ...       ...            ...           ...   \n2464    IHG   380.0      2017-07-06  23854.50        0.61742      14728.28   \n2476  Hilto   245.0      2017-07-17   2204.35        0.56618       1248.05   \n2494    IHG   380.0      2017-07-06  25405.75        0.62211      15805.16   \n2526  Hilto   220.0      2018-01-31   1282.87        0.64367        825.74   \n2537  Hilto   283.0      2018-01-23   1120.35        0.60809        681.27   \n\n                         Flag  Size Subset      SPOR           Group  \\\n0           Hilton Garden Inn            5  6.272227  Select Service   \n1            InterContinental            5  2.265388    Full Service   \n2        DoubleTree by Hilton            5  3.506707    Full Service   \n3                Crowne Plaza            5  0.138418    Full service   \n5              Embassy Suites            5  1.833122      All Suites   \n...                       ...          ...       ...             ...   \n2464             Crowne Plaza            5  3.014898    Full service   \n2476  Hilton Hotels & Resorts            5  0.432116    Full Service   \n2494             Crowne Plaza            5  3.210956    Full service   \n2526           Embassy Suites            5  0.280057      All Suites   \n2537     DoubleTree by Hilton            5  0.190131    Full Service   \n\n                 Type  \n0     Focused Service  \n1        Full Service  \n2        Full Service  \n3        Full service  \n5          All Suites  \n...               ...  \n2464     Full service  \n2476     Full Service  \n2494     Full service  \n2526       All Suites  \n2537     Full Service  \n\n[543 rows x 13 columns]"
     },
     "execution_count": 8,
     "metadata": {},
     "output_type": "execute_result"
    }
   ],
   "source": [
    "size_mask = clean_sales_data['Size Subset'] == 5\n",
    "clean_sales_data.loc[size_mask]"
   ]
  },
  {
   "cell_type": "code",
   "execution_count": 9,
   "metadata": {},
   "outputs": [
    {
     "data": {
      "text/html": "<div>\n<style scoped>\n    .dataframe tbody tr th:only-of-type {\n        vertical-align: middle;\n    }\n\n    .dataframe tbody tr th {\n        vertical-align: top;\n    }\n\n    .dataframe thead th {\n        text-align: right;\n    }\n</style>\n<table border=\"1\" class=\"dataframe\">\n  <thead>\n    <tr style=\"text-align: right;\">\n      <th></th>\n      <th>Property Name</th>\n      <th>Property Code</th>\n      <th>Brand</th>\n      <th>#Rooms</th>\n      <th>Activation Date</th>\n      <th>Revenue</th>\n      <th>Profit Margin</th>\n      <th>Gross Profit</th>\n      <th>Flag</th>\n      <th>Size Subset</th>\n      <th>SPOR</th>\n      <th>Group</th>\n      <th>Type</th>\n    </tr>\n  </thead>\n  <tbody>\n    <tr>\n      <td>1</td>\n      <td>InterContinental New Orleans</td>\n      <td>MSYHA</td>\n      <td>IHG</td>\n      <td>484.0</td>\n      <td>2018-09-20</td>\n      <td>22829.80</td>\n      <td>0.67301</td>\n      <td>15364.72</td>\n      <td>InterContinental</td>\n      <td>5</td>\n      <td>2.265388</td>\n      <td>Full Service</td>\n      <td>Full Service</td>\n    </tr>\n    <tr>\n      <td>2</td>\n      <td>DoubleTree Suites by Hilton Hotel Boston - Cam...</td>\n      <td>BOSSB</td>\n      <td>Hilto</td>\n      <td>308.0</td>\n      <td>2018-06-11</td>\n      <td>22488.70</td>\n      <td>0.69884</td>\n      <td>15715.96</td>\n      <td>DoubleTree by Hilton</td>\n      <td>5</td>\n      <td>3.506707</td>\n      <td>Full Service</td>\n      <td>Full Service</td>\n    </tr>\n    <tr>\n      <td>17</td>\n      <td>Hilton Denver Inverness</td>\n      <td>DENIR</td>\n      <td>Hilto</td>\n      <td>302.0</td>\n      <td>2018-02-15</td>\n      <td>6934.46</td>\n      <td>0.67363</td>\n      <td>4671.29</td>\n      <td>Hilton Hotels &amp; Resorts</td>\n      <td>5</td>\n      <td>1.102787</td>\n      <td>Full Service</td>\n      <td>Full Service</td>\n    </tr>\n    <tr>\n      <td>22</td>\n      <td>DoubleTree Suites Salt Lake City Downtown</td>\n      <td>SLCWS</td>\n      <td>Hilto</td>\n      <td>241.0</td>\n      <td>2016-03-04</td>\n      <td>6305.33</td>\n      <td>0.63527</td>\n      <td>4005.59</td>\n      <td>DoubleTree by Hilton</td>\n      <td>5</td>\n      <td>1.256541</td>\n      <td>Full Service</td>\n      <td>Full Service</td>\n    </tr>\n    <tr>\n      <td>50</td>\n      <td>Hotel MdR Marina Del Ray - a DoubleTree by Hilton</td>\n      <td>LAXMA</td>\n      <td>Hilto</td>\n      <td>283.0</td>\n      <td>2018-01-23</td>\n      <td>4016.41</td>\n      <td>0.59074</td>\n      <td>2372.65</td>\n      <td>DoubleTree by Hilton</td>\n      <td>5</td>\n      <td>0.681612</td>\n      <td>Full Service</td>\n      <td>Full Service</td>\n    </tr>\n    <tr>\n      <td>...</td>\n      <td>...</td>\n      <td>...</td>\n      <td>...</td>\n      <td>...</td>\n      <td>...</td>\n      <td>...</td>\n      <td>...</td>\n      <td>...</td>\n      <td>...</td>\n      <td>...</td>\n      <td>...</td>\n      <td>...</td>\n      <td>...</td>\n    </tr>\n    <tr>\n      <td>2397</td>\n      <td>Hilton Dallas Plano Granite Park</td>\n      <td>DALPG</td>\n      <td>Hilto</td>\n      <td>299.0</td>\n      <td>2014-08-15</td>\n      <td>4469.00</td>\n      <td>0.72262</td>\n      <td>3229.38</td>\n      <td>Hilton Hotels &amp; Resorts</td>\n      <td>5</td>\n      <td>0.717836</td>\n      <td>Full Service</td>\n      <td>Full Service</td>\n    </tr>\n    <tr>\n      <td>2426</td>\n      <td>DoubleTree by Hilton Hotel San Francisco Airport</td>\n      <td>SFOAO</td>\n      <td>Hilto</td>\n      <td>395.0</td>\n      <td>2018-05-24</td>\n      <td>3425.78</td>\n      <td>0.57337</td>\n      <td>1964.24</td>\n      <td>DoubleTree by Hilton</td>\n      <td>5</td>\n      <td>0.416532</td>\n      <td>Full Service</td>\n      <td>Full Service</td>\n    </tr>\n    <tr>\n      <td>2460</td>\n      <td>Doubletree by Hilton Denver Tech Center</td>\n      <td>DENEW</td>\n      <td>Hilto</td>\n      <td>305.0</td>\n      <td>2016-11-22</td>\n      <td>2474.50</td>\n      <td>0.70177</td>\n      <td>1736.52</td>\n      <td>DoubleTree by Hilton</td>\n      <td>5</td>\n      <td>0.389649</td>\n      <td>Full Service</td>\n      <td>Full Service</td>\n    </tr>\n    <tr>\n      <td>2476</td>\n      <td>The Saratoga Hilton (Gift Shop)</td>\n      <td>ALBSA:Gift Shop</td>\n      <td>Hilto</td>\n      <td>245.0</td>\n      <td>2017-07-17</td>\n      <td>2204.35</td>\n      <td>0.56618</td>\n      <td>1248.05</td>\n      <td>Hilton Hotels &amp; Resorts</td>\n      <td>5</td>\n      <td>0.432116</td>\n      <td>Full Service</td>\n      <td>Full Service</td>\n    </tr>\n    <tr>\n      <td>2537</td>\n      <td>Hotel MdR Marina Del Ray - a DoubleTree by Hilton</td>\n      <td>LAXMA</td>\n      <td>Hilto</td>\n      <td>283.0</td>\n      <td>2018-01-23</td>\n      <td>1120.35</td>\n      <td>0.60809</td>\n      <td>681.27</td>\n      <td>DoubleTree by Hilton</td>\n      <td>5</td>\n      <td>0.190131</td>\n      <td>Full Service</td>\n      <td>Full Service</td>\n    </tr>\n  </tbody>\n</table>\n<p>121 rows × 13 columns</p>\n</div>",
      "text/plain": "                                          Property Name    Property Code  \\\n1                          InterContinental New Orleans            MSYHA   \n2     DoubleTree Suites by Hilton Hotel Boston - Cam...            BOSSB   \n17                              Hilton Denver Inverness            DENIR   \n22            DoubleTree Suites Salt Lake City Downtown            SLCWS   \n50    Hotel MdR Marina Del Ray - a DoubleTree by Hilton            LAXMA   \n...                                                 ...              ...   \n2397                   Hilton Dallas Plano Granite Park            DALPG   \n2426   DoubleTree by Hilton Hotel San Francisco Airport            SFOAO   \n2460            Doubletree by Hilton Denver Tech Center            DENEW   \n2476                    The Saratoga Hilton (Gift Shop)  ALBSA:Gift Shop   \n2537  Hotel MdR Marina Del Ray - a DoubleTree by Hilton            LAXMA   \n\n      Brand  #Rooms Activation Date   Revenue  Profit Margin  Gross Profit  \\\n1       IHG   484.0      2018-09-20  22829.80        0.67301      15364.72   \n2     Hilto   308.0      2018-06-11  22488.70        0.69884      15715.96   \n17    Hilto   302.0      2018-02-15   6934.46        0.67363       4671.29   \n22    Hilto   241.0      2016-03-04   6305.33        0.63527       4005.59   \n50    Hilto   283.0      2018-01-23   4016.41        0.59074       2372.65   \n...     ...     ...             ...       ...            ...           ...   \n2397  Hilto   299.0      2014-08-15   4469.00        0.72262       3229.38   \n2426  Hilto   395.0      2018-05-24   3425.78        0.57337       1964.24   \n2460  Hilto   305.0      2016-11-22   2474.50        0.70177       1736.52   \n2476  Hilto   245.0      2017-07-17   2204.35        0.56618       1248.05   \n2537  Hilto   283.0      2018-01-23   1120.35        0.60809        681.27   \n\n                         Flag  Size Subset      SPOR         Group  \\\n1            InterContinental            5  2.265388  Full Service   \n2        DoubleTree by Hilton            5  3.506707  Full Service   \n17    Hilton Hotels & Resorts            5  1.102787  Full Service   \n22       DoubleTree by Hilton            5  1.256541  Full Service   \n50       DoubleTree by Hilton            5  0.681612  Full Service   \n...                       ...          ...       ...           ...   \n2397  Hilton Hotels & Resorts            5  0.717836  Full Service   \n2426     DoubleTree by Hilton            5  0.416532  Full Service   \n2460     DoubleTree by Hilton            5  0.389649  Full Service   \n2476  Hilton Hotels & Resorts            5  0.432116  Full Service   \n2537     DoubleTree by Hilton            5  0.190131  Full Service   \n\n              Type  \n1     Full Service  \n2     Full Service  \n17    Full Service  \n22    Full Service  \n50    Full Service  \n...            ...  \n2397  Full Service  \n2426  Full Service  \n2460  Full Service  \n2476  Full Service  \n2537  Full Service  \n\n[121 rows x 13 columns]"
     },
     "execution_count": 9,
     "metadata": {},
     "output_type": "execute_result"
    }
   ],
   "source": [
    "# brand = 'Hilto'\n",
    "# # brand = 'IHG'\n",
    "brand = 'Other'\n",
    "# brand_mask1 = clean_sales_data['Brand'] != 'Hilto'\n",
    "# brand_mask2 = clean_sales_data['Brand'] != 'IHG'\n",
    "# flag_mask = clean_sales_data['Flag'] == flag\n",
    "size_mask = clean_sales_data['Size Subset'] == size_subset\n",
    "type_mask = clean_sales_data['Type'] == hotel_type\n",
    "group_mask = clean_sales_data['Group'] == hotel_group\n",
    "# print(brand_mask)\n",
    "clean_sales_data.loc[group_mask & type_mask & size_mask] #& flag_mask "
   ]
  },
  {
   "cell_type": "code",
   "execution_count": 10,
   "metadata": {},
   "outputs": [
    {
     "data": {
      "text/html": "<div>\n<style scoped>\n    .dataframe tbody tr th:only-of-type {\n        vertical-align: middle;\n    }\n\n    .dataframe tbody tr th {\n        vertical-align: top;\n    }\n\n    .dataframe thead th {\n        text-align: right;\n    }\n</style>\n<table border=\"1\" class=\"dataframe\">\n  <thead>\n    <tr style=\"text-align: right;\">\n      <th></th>\n      <th>Property Name</th>\n      <th>Property Code</th>\n      <th>Brand</th>\n      <th>#Rooms</th>\n      <th>Activation Date</th>\n      <th>Revenue</th>\n      <th>Profit Margin</th>\n      <th>Gross Profit</th>\n      <th>Flag</th>\n      <th>Size Subset</th>\n      <th>SPOR</th>\n      <th>Group</th>\n      <th>Type</th>\n    </tr>\n  </thead>\n  <tbody>\n    <tr>\n      <td>1</td>\n      <td>InterContinental New Orleans</td>\n      <td>MSYHA</td>\n      <td>IHG</td>\n      <td>484.0</td>\n      <td>2018-09-20</td>\n      <td>22829.80</td>\n      <td>0.67301</td>\n      <td>15364.72</td>\n      <td>InterContinental</td>\n      <td>5</td>\n      <td>2.265388</td>\n      <td>Full Service</td>\n      <td>Full Service</td>\n    </tr>\n    <tr>\n      <td>2</td>\n      <td>DoubleTree Suites by Hilton Hotel Boston - Cam...</td>\n      <td>BOSSB</td>\n      <td>Hilto</td>\n      <td>308.0</td>\n      <td>2018-06-11</td>\n      <td>22488.70</td>\n      <td>0.69884</td>\n      <td>15715.96</td>\n      <td>DoubleTree by Hilton</td>\n      <td>5</td>\n      <td>3.506707</td>\n      <td>Full Service</td>\n      <td>Full Service</td>\n    </tr>\n    <tr>\n      <td>17</td>\n      <td>Hilton Denver Inverness</td>\n      <td>DENIR</td>\n      <td>Hilto</td>\n      <td>302.0</td>\n      <td>2018-02-15</td>\n      <td>6934.46</td>\n      <td>0.67363</td>\n      <td>4671.29</td>\n      <td>Hilton Hotels &amp; Resorts</td>\n      <td>5</td>\n      <td>1.102787</td>\n      <td>Full Service</td>\n      <td>Full Service</td>\n    </tr>\n    <tr>\n      <td>22</td>\n      <td>DoubleTree Suites Salt Lake City Downtown</td>\n      <td>SLCWS</td>\n      <td>Hilto</td>\n      <td>241.0</td>\n      <td>2016-03-04</td>\n      <td>6305.33</td>\n      <td>0.63527</td>\n      <td>4005.59</td>\n      <td>DoubleTree by Hilton</td>\n      <td>5</td>\n      <td>1.256541</td>\n      <td>Full Service</td>\n      <td>Full Service</td>\n    </tr>\n    <tr>\n      <td>50</td>\n      <td>Hotel MdR Marina Del Ray - a DoubleTree by Hilton</td>\n      <td>LAXMA</td>\n      <td>Hilto</td>\n      <td>283.0</td>\n      <td>2018-01-23</td>\n      <td>4016.41</td>\n      <td>0.59074</td>\n      <td>2372.65</td>\n      <td>DoubleTree by Hilton</td>\n      <td>5</td>\n      <td>0.681612</td>\n      <td>Full Service</td>\n      <td>Full Service</td>\n    </tr>\n    <tr>\n      <td>...</td>\n      <td>...</td>\n      <td>...</td>\n      <td>...</td>\n      <td>...</td>\n      <td>...</td>\n      <td>...</td>\n      <td>...</td>\n      <td>...</td>\n      <td>...</td>\n      <td>...</td>\n      <td>...</td>\n      <td>...</td>\n      <td>...</td>\n    </tr>\n    <tr>\n      <td>2397</td>\n      <td>Hilton Dallas Plano Granite Park</td>\n      <td>DALPG</td>\n      <td>Hilto</td>\n      <td>299.0</td>\n      <td>2014-08-15</td>\n      <td>4469.00</td>\n      <td>0.72262</td>\n      <td>3229.38</td>\n      <td>Hilton Hotels &amp; Resorts</td>\n      <td>5</td>\n      <td>0.717836</td>\n      <td>Full Service</td>\n      <td>Full Service</td>\n    </tr>\n    <tr>\n      <td>2426</td>\n      <td>DoubleTree by Hilton Hotel San Francisco Airport</td>\n      <td>SFOAO</td>\n      <td>Hilto</td>\n      <td>395.0</td>\n      <td>2018-05-24</td>\n      <td>3425.78</td>\n      <td>0.57337</td>\n      <td>1964.24</td>\n      <td>DoubleTree by Hilton</td>\n      <td>5</td>\n      <td>0.416532</td>\n      <td>Full Service</td>\n      <td>Full Service</td>\n    </tr>\n    <tr>\n      <td>2460</td>\n      <td>Doubletree by Hilton Denver Tech Center</td>\n      <td>DENEW</td>\n      <td>Hilto</td>\n      <td>305.0</td>\n      <td>2016-11-22</td>\n      <td>2474.50</td>\n      <td>0.70177</td>\n      <td>1736.52</td>\n      <td>DoubleTree by Hilton</td>\n      <td>5</td>\n      <td>0.389649</td>\n      <td>Full Service</td>\n      <td>Full Service</td>\n    </tr>\n    <tr>\n      <td>2476</td>\n      <td>The Saratoga Hilton (Gift Shop)</td>\n      <td>ALBSA:Gift Shop</td>\n      <td>Hilto</td>\n      <td>245.0</td>\n      <td>2017-07-17</td>\n      <td>2204.35</td>\n      <td>0.56618</td>\n      <td>1248.05</td>\n      <td>Hilton Hotels &amp; Resorts</td>\n      <td>5</td>\n      <td>0.432116</td>\n      <td>Full Service</td>\n      <td>Full Service</td>\n    </tr>\n    <tr>\n      <td>2537</td>\n      <td>Hotel MdR Marina Del Ray - a DoubleTree by Hilton</td>\n      <td>LAXMA</td>\n      <td>Hilto</td>\n      <td>283.0</td>\n      <td>2018-01-23</td>\n      <td>1120.35</td>\n      <td>0.60809</td>\n      <td>681.27</td>\n      <td>DoubleTree by Hilton</td>\n      <td>5</td>\n      <td>0.190131</td>\n      <td>Full Service</td>\n      <td>Full Service</td>\n    </tr>\n  </tbody>\n</table>\n<p>121 rows × 13 columns</p>\n</div>",
      "text/plain": "                                          Property Name    Property Code  \\\n1                          InterContinental New Orleans            MSYHA   \n2     DoubleTree Suites by Hilton Hotel Boston - Cam...            BOSSB   \n17                              Hilton Denver Inverness            DENIR   \n22            DoubleTree Suites Salt Lake City Downtown            SLCWS   \n50    Hotel MdR Marina Del Ray - a DoubleTree by Hilton            LAXMA   \n...                                                 ...              ...   \n2397                   Hilton Dallas Plano Granite Park            DALPG   \n2426   DoubleTree by Hilton Hotel San Francisco Airport            SFOAO   \n2460            Doubletree by Hilton Denver Tech Center            DENEW   \n2476                    The Saratoga Hilton (Gift Shop)  ALBSA:Gift Shop   \n2537  Hotel MdR Marina Del Ray - a DoubleTree by Hilton            LAXMA   \n\n      Brand  #Rooms Activation Date   Revenue  Profit Margin  Gross Profit  \\\n1       IHG   484.0      2018-09-20  22829.80        0.67301      15364.72   \n2     Hilto   308.0      2018-06-11  22488.70        0.69884      15715.96   \n17    Hilto   302.0      2018-02-15   6934.46        0.67363       4671.29   \n22    Hilto   241.0      2016-03-04   6305.33        0.63527       4005.59   \n50    Hilto   283.0      2018-01-23   4016.41        0.59074       2372.65   \n...     ...     ...             ...       ...            ...           ...   \n2397  Hilto   299.0      2014-08-15   4469.00        0.72262       3229.38   \n2426  Hilto   395.0      2018-05-24   3425.78        0.57337       1964.24   \n2460  Hilto   305.0      2016-11-22   2474.50        0.70177       1736.52   \n2476  Hilto   245.0      2017-07-17   2204.35        0.56618       1248.05   \n2537  Hilto   283.0      2018-01-23   1120.35        0.60809        681.27   \n\n                         Flag  Size Subset      SPOR         Group  \\\n1            InterContinental            5  2.265388  Full Service   \n2        DoubleTree by Hilton            5  3.506707  Full Service   \n17    Hilton Hotels & Resorts            5  1.102787  Full Service   \n22       DoubleTree by Hilton            5  1.256541  Full Service   \n50       DoubleTree by Hilton            5  0.681612  Full Service   \n...                       ...          ...       ...           ...   \n2397  Hilton Hotels & Resorts            5  0.717836  Full Service   \n2426     DoubleTree by Hilton            5  0.416532  Full Service   \n2460     DoubleTree by Hilton            5  0.389649  Full Service   \n2476  Hilton Hotels & Resorts            5  0.432116  Full Service   \n2537     DoubleTree by Hilton            5  0.190131  Full Service   \n\n              Type  \n1     Full Service  \n2     Full Service  \n17    Full Service  \n22    Full Service  \n50    Full Service  \n...            ...  \n2397  Full Service  \n2426  Full Service  \n2460  Full Service  \n2476  Full Service  \n2537  Full Service  \n\n[121 rows x 13 columns]"
     },
     "execution_count": 10,
     "metadata": {},
     "output_type": "execute_result"
    }
   ],
   "source": [
    "def get_comparison_df(brand, flag, size_subset, hotel_type, hotel_group):\n",
    "    if brand == 'Not Hotel':\n",
    "        comparison_df = 'Not Hotel Data'\n",
    "    elif brand == 'Hilto':\n",
    "        brand_mask = clean_sales_data['Brand'] == 'Hilto'\n",
    "        brand_df = clean_sales_data[brand_mask].copy()\n",
    "        flag_mask = brand_df['Flag'] == flag\n",
    "        size_mask = brand_df['Size Subset'] == size_subset\n",
    "        flag_df = brand_df[flag_mask & size_mask].copy()\n",
    "        if len(flag_df) > 0:\n",
    "            hilton_comparison_df = flag_df.copy()\n",
    "        elif len(flag_df) <= 24:\n",
    "            type_mask = brand_df['Type'] == hotel_type\n",
    "            group_mask = brand_df['Group'] == hotel_group\n",
    "            hilton_comparison_df = brand_df[type_mask & group_mask & size_mask].copy()\n",
    "        comparison_df = hilton_comparison_df.copy()\n",
    "    elif brand == 'IHG':\n",
    "        brand_mask = clean_sales_data['Brand'] == 'IHG'\n",
    "        brand_df = clean_sales_data[brand_mask].copy()\n",
    "        flag_mask = brand_df['Flag'] == flag\n",
    "        size_mask = brand_df['Size Subset'] == size_subset\n",
    "        flag_df = brand_df[flag_mask & size_mask].copy()\n",
    "        if len(flag_df) > 24:\n",
    "            IHG_comparison_df = flag_df.copy()\n",
    "        elif len(flag_df) <= 24:\n",
    "            type_mask = brand_df['Type'] == hotel_type\n",
    "            group_mask = brand_df['Group'] == hotel_group\n",
    "            IHG_comparison_df = brand_df[type_mask & group_mask & size_mask].copy()\n",
    "        comparison_df = IHG_comparison_df.copy()\n",
    "    else:\n",
    "        type_mask = clean_sales_data['Type'] == hotel_type\n",
    "        group_mask = clean_sales_data['Group'] == hotel_group\n",
    "        size_mask = clean_sales_data['Size Subset'] == size_subset\n",
    "        other_brands_comparison_df = clean_sales_data[type_mask & group_mask & size_mask].copy()\n",
    "        comparison_df = other_brands_comparison_df\n",
    "    return comparison_df\n",
    "\n",
    "comparison_df = get_comparison_df(brand, flag, size_subset, hotel_type, hotel_group)\n",
    "comparison_df"
   ]
  },
  {
   "cell_type": "code",
   "execution_count": null,
   "metadata": {},
   "outputs": [],
   "source": [
    "gi"
   ]
  }
 ]
}