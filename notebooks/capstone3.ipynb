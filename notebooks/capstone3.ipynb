{
 "nbformat": 4,
 "nbformat_minor": 2,
 "metadata": {
  "language_info": {
   "name": "python",
   "codemirror_mode": {
    "name": "ipython",
    "version": 3
   },
   "version": "3.7.4-final"
  },
  "orig_nbformat": 2,
  "file_extension": ".py",
  "mimetype": "text/x-python",
  "name": "python",
  "npconvert_exporter": "python",
  "pygments_lexer": "ipython3",
  "version": 3,
  "kernelspec": {
   "name": "python37464bitbaseconda00633321aef34503b80c69b412f7a6cc",
   "display_name": "Python 3.7.4 64-bit ('base': conda)"
  }
 },
 "cells": [
  {
   "cell_type": "code",
   "execution_count": 103,
   "metadata": {},
   "outputs": [],
   "source": [
    "import numpy as np\n",
    "import pandas as pd\n",
    "import pandas.io.sql as psql\n",
    "from pandas import ExcelWriter\n",
    "from pandas import ExcelFile\n",
    "import openpyxl\n",
    "pd.options.mode.chained_assignment = None\n",
    "\n",
    "import matplotlib\n",
    "import matplotlib.pyplot as plt\n",
    "%matplotlib inline\n",
    "\n",
    "from sklearn.linear_model import LinearRegression\n",
    "from sklearn.model_selection import KFold\n",
    "from sklearn.model_selection import train_test_split\n",
    "from sklearn.datasets import load_boston\n",
    "from sklearn import model_selection, linear_model\n",
    "from sklearn.feature_selection import RFE\n",
    "\n",
    "import statsmodels.api as sm\n",
    "\n",
    "\n",
    "plt.style.use(\"ggplot\")\n"
   ]
  },
  {
   "cell_type": "code",
   "execution_count": 104,
   "metadata": {},
   "outputs": [
    {
     "data": {
      "text/html": "<div>\n<style scoped>\n    .dataframe tbody tr th:only-of-type {\n        vertical-align: middle;\n    }\n\n    .dataframe tbody tr th {\n        vertical-align: top;\n    }\n\n    .dataframe thead th {\n        text-align: right;\n    }\n</style>\n<table border=\"1\" class=\"dataframe\">\n  <thead>\n    <tr style=\"text-align: right;\">\n      <th></th>\n      <th>Property Name</th>\n      <th>Property Code</th>\n      <th>Brand</th>\n      <th>#Rooms</th>\n      <th>Management Company</th>\n      <th>Registration Date</th>\n      <th>Activation Date</th>\n      <th>Last Transaction</th>\n      <th>Revenue</th>\n      <th>Profit Margin</th>\n      <th>Gross Profit</th>\n      <th>Pend Prod</th>\n      <th>Neg Inv</th>\n      <th>Low Prod Sales</th>\n      <th>Shift Rep Days</th>\n      <th>PMS Port</th>\n      <th>Column1</th>\n      <th>Month of Reporting</th>\n    </tr>\n  </thead>\n  <tbody>\n    <tr>\n      <td>0</td>\n      <td>Hilton Garden Inn Times Square</td>\n      <td>NYCMW</td>\n      <td>Hilto</td>\n      <td>369.0</td>\n      <td>Highgate Hotels, Inc.</td>\n      <td>2017-10-06</td>\n      <td>2017-10-27</td>\n      <td>2019-02-01 03:49:00</td>\n      <td>48190.59</td>\n      <td>0.72970</td>\n      <td>35164.64</td>\n      <td>76.0</td>\n      <td>119.0</td>\n      <td>NaN</td>\n      <td>a long time</td>\n      <td>35010.0</td>\n      <td>Details Use Archive</td>\n      <td>January</td>\n    </tr>\n    <tr>\n      <td>1</td>\n      <td>InterContinental New Orleans</td>\n      <td>MSYHA</td>\n      <td>Inter</td>\n      <td>484.0</td>\n      <td>Dimension Development Company</td>\n      <td>2018-08-17</td>\n      <td>2018-09-20</td>\n      <td>2019-02-01 05:39:00</td>\n      <td>22829.80</td>\n      <td>0.67301</td>\n      <td>15364.72</td>\n      <td>69.0</td>\n      <td>86.0</td>\n      <td>99.0</td>\n      <td>6 months</td>\n      <td>5011.0</td>\n      <td>Details Use Archive</td>\n      <td>January</td>\n    </tr>\n    <tr>\n      <td>2</td>\n      <td>DoubleTree Suites by Hilton Hotel Boston - Cam...</td>\n      <td>BOSSB</td>\n      <td>Doubl</td>\n      <td>308.0</td>\n      <td>Hilton Worldwide</td>\n      <td>2018-04-10</td>\n      <td>2018-06-11</td>\n      <td>2019-02-01 04:58:00</td>\n      <td>22488.70</td>\n      <td>0.69884</td>\n      <td>15715.96</td>\n      <td>36.0</td>\n      <td>165.0</td>\n      <td>NaN</td>\n      <td>6 months</td>\n      <td>35010.0</td>\n      <td>Details Use Archive</td>\n      <td>January</td>\n    </tr>\n    <tr>\n      <td>3</td>\n      <td>Hilton Garden Inn New Orleans Convention Center</td>\n      <td>MSYGI</td>\n      <td>Hilto</td>\n      <td>286.0</td>\n      <td>Interstate Hotels and Resorts</td>\n      <td>2018-06-27</td>\n      <td>2018-09-04</td>\n      <td>2019-02-01 05:52:00</td>\n      <td>15917.05</td>\n      <td>0.84608</td>\n      <td>13467.05</td>\n      <td>142.0</td>\n      <td>239.0</td>\n      <td>NaN</td>\n      <td>7 days</td>\n      <td>35010.0</td>\n      <td>Details Use Archive</td>\n      <td>January</td>\n    </tr>\n    <tr>\n      <td>4</td>\n      <td>Crowne Plaza Fredericton-Lord Beaverbrook</td>\n      <td>YFCQS</td>\n      <td>Crown</td>\n      <td>169.0</td>\n      <td>IHG - Crowne Plaza</td>\n      <td>2018-09-26</td>\n      <td>2019-02-11</td>\n      <td>2019-03-01 03:58:00</td>\n      <td>544.45</td>\n      <td>0.56147</td>\n      <td>305.69</td>\n      <td>NaN</td>\n      <td>1.0</td>\n      <td>NaN</td>\n      <td>about 21 hours</td>\n      <td>5011.0</td>\n      <td>Details Use Archive</td>\n      <td>February</td>\n    </tr>\n  </tbody>\n</table>\n</div>",
      "text/plain": "                                       Property Name Property Code  Brand  \\\n0                     Hilton Garden Inn Times Square         NYCMW  Hilto   \n1                       InterContinental New Orleans         MSYHA  Inter   \n2  DoubleTree Suites by Hilton Hotel Boston - Cam...         BOSSB  Doubl   \n3    Hilton Garden Inn New Orleans Convention Center         MSYGI  Hilto   \n4          Crowne Plaza Fredericton-Lord Beaverbrook         YFCQS  Crown   \n\n   #Rooms             Management Company Registration Date Activation Date  \\\n0   369.0          Highgate Hotels, Inc.        2017-10-06      2017-10-27   \n1   484.0  Dimension Development Company        2018-08-17      2018-09-20   \n2   308.0               Hilton Worldwide        2018-04-10      2018-06-11   \n3   286.0  Interstate Hotels and Resorts        2018-06-27      2018-09-04   \n4   169.0             IHG - Crowne Plaza        2018-09-26      2019-02-11   \n\n      Last Transaction   Revenue  Profit Margin  Gross Profit  Pend Prod  \\\n0  2019-02-01 03:49:00  48190.59        0.72970      35164.64       76.0   \n1  2019-02-01 05:39:00  22829.80        0.67301      15364.72       69.0   \n2  2019-02-01 04:58:00  22488.70        0.69884      15715.96       36.0   \n3  2019-02-01 05:52:00  15917.05        0.84608      13467.05      142.0   \n4  2019-03-01 03:58:00    544.45        0.56147        305.69        NaN   \n\n   Neg Inv  Low Prod Sales  Shift Rep Days  PMS Port              Column1  \\\n0    119.0             NaN     a long time   35010.0  Details Use Archive   \n1     86.0            99.0        6 months    5011.0  Details Use Archive   \n2    165.0             NaN        6 months   35010.0  Details Use Archive   \n3    239.0             NaN          7 days   35010.0  Details Use Archive   \n4      1.0             NaN  about 21 hours    5011.0  Details Use Archive   \n\n  Month of Reporting  \n0            January  \n1            January  \n2            January  \n3            January  \n4           February  "
     },
     "execution_count": 104,
     "metadata": {},
     "output_type": "execute_result"
    }
   ],
   "source": [
    "performance_2019 = pd.read_excel('../../capstone2/data/2019_sales_by_month.xlsx')\n",
    "performance_2019.head()"
   ]
  },
  {
   "cell_type": "code",
   "execution_count": 105,
   "metadata": {},
   "outputs": [],
   "source": [
    "#drop NaN, drop unwanted columns, create additional column 'Flag'\n",
    "cleaning_df = performance_2019.dropna(subset=['Property Code'])\n",
    "cleaning_df.drop(['Column1', 'Pend Prod', 'Neg Inv', 'Low Prod Sales', 'Shift Rep Days', 'PMS Port', 'Last Transaction', 'Registration Date'], axis=1, inplace=True)\n",
    "cleaning_df['Flag']=cleaning_df['Brand']"
   ]
  },
  {
   "cell_type": "code",
   "execution_count": 106,
   "metadata": {},
   "outputs": [],
   "source": [
    "#replace month strings with int\n",
    "months = ['January', 'February', 'March', 'April', 'May', 'June', 'July', 'August', 'September', 'October', 'November', 'December']\n",
    "value = 1\n",
    "for month in months:\n",
    "    cleaning_df.replace(to_replace=month, value=value, inplace=True)\n",
    "    value+=1"
   ]
  },
  {
   "cell_type": "code",
   "execution_count": 107,
   "metadata": {},
   "outputs": [],
   "source": [
    "#clean up brand field \n",
    "cleaning_df['Brand'].replace(to_replace=['Tru B', 'TRU B', 'TRU b', 'Tru b', 'Home2', 'Homew', 'The S', 'Hampt', 'Doubl', 'Embas', 'Miram'], value='Hilto', inplace=True)\n",
    "cleaning_df['Brand'].replace(to_replace=['Stayb', 'Inter', 'IHG A', 'Holid', 'Avid ', 'Crown', 'Candl'], value='IHG', inplace=True)\n",
    "cleaning_df['Brand'].replace(to_replace= ['Aston', 'Delta', 'Renai'], value='Marri', inplace=True)\n",
    "cleaning_df['Brand'].replace(to_replace= ['Quali', 'Comfo'], value='Choic', inplace=True)\n",
    "cleaning_df['Brand'].replace(to_replace= 'La Quin', value='Wyndh', inplace=True)\n",
    "cleaning_df['Brand'].replace(to_replace= ['Blueb', 'River'], value='Apart', inplace=True)\n",
    "cleaning_df['Brand'].replace(to_replace= ['Platt'], value='Impul', inplace=True)\n",
    "cleaning_df['Brand'].replace(to_replace= ['Hammo'], value='Indep', inplace=True)\n",
    "\n",
    "prop_mask1 = (cleaning_df['Property Code'] == 'LAXMA') | (cleaning_df['Property Code'] == 'LGBMY')\n",
    "cleaning_df['Brand'][prop_mask1] = 'Hilto'\n",
    "prop_mask2 = cleaning_df['Property Code'] == 'IHG - ATLID'\n",
    "cleaning_df['Brand'][prop_mask2] = 'IHG'"
   ]
  },
  {
   "cell_type": "code",
   "execution_count": 109,
   "metadata": {},
   "outputs": [],
   "source": [
    "#clean up flag field\n",
    "cleaning_df['Flag'].replace(to_replace=['TRU B', 'TRU b', 'Tru B', 'Tru b'], value='Tru by Hilton', inplace=True)\n",
    "cleaning_df['Flag'].replace(to_replace= 'The S', value='Tapestry Collections', inplace=True)\n",
    "cleaning_df['Flag'].replace(to_replace= 'Homew', value='Homewood Suites by Hilton', inplace=True)\n",
    "cleaning_df['Flag'].replace(to_replace= 'Home2', value='Home2 Suites by Hilton', inplace=True)\n",
    "cleaning_df['Flag'].replace(to_replace= 'The S', value='Tapestry Collections', inplace=True)\n",
    "cleaning_df['Flag'].replace(to_replace= 'Holid', value='Holiday Inn', inplace=True)\n",
    "cleaning_df['Flag'].replace(to_replace= 'Stayb', value='Staybridge Suites', inplace=True)\n",
    "cleaning_df['Flag'].replace(to_replace= 'Crown', value='Crowne Plaza', inplace=True)\n",
    "cleaning_df['Flag'].replace(to_replace= 'Embas', value='Embassy Hilton', inplace=True)\n",
    "cleaning_df['Flag'].replace(to_replace= 'Doubl', value='DoubleTree by Hilton', inplace=True)\n",
    "cleaning_df['Flag'].replace(to_replace= 'Candl', value='Candlewood Suites', inplace=True)\n",
    "cleaning_df['Flag'].replace(to_replace= 'Avid ', value='Avid', inplace=True)\n",
    "cleaning_df['Flag'].replace(to_replace= 'Comfo', value='Comfort Suites', inplace=True)\n",
    "cleaning_df['Flag'].replace(to_replace= 'Quali', value='Quality Suites', inplace=True)\n",
    "cleaning_df['Flag'].replace(to_replace= 'IHG A', value='IHG Army Hotels', inplace=True)\n",
    "cleaning_df['Flag'].replace(to_replace= 'La Quinta', value='La Quinta Inn & Suites', inplace=True)\n",
    "cleaning_df['Flag'].replace(to_replace= 'Inter', value='Intercontinental Hotels', inplace=True)\n",
    "cleaning_df['Flag'].replace(to_replace= 'Renai', value='Renaissance', inplace=True)\n",
    "cleaning_df['Flag'].replace(to_replace= 'Delta', value='Delta Hotels', inplace=True)\n",
    "cleaning_df['Flag'].replace(to_replace= 'Best ', value='Best Western Plus', inplace=True)\n",
    "cleaning_df['Flag'].replace(to_replace= 'Miram', value='Curio Collection', inplace=True)\n",
    "cleaning_df['Flag'].replace(to_replace= 'Hammo', value='Independant', inplace=True)\n",
    "cleaning_df['Flag'].replace(to_replace=['Blueb', 'River'], value='Apartment Complex', inplace=True)\n",
    "cleaning_df['Flag'].replace(to_replace= 'Platt', value='Retail', inplace=True)"
   ]
  },
  {
   "cell_type": "code",
   "execution_count": 111,
   "metadata": {},
   "outputs": [
    {
     "name": "stdout",
     "output_type": "stream",
     "text": "Hilto    3967\nIHG       467\nChoic      23\nMarri      19\nApart      12\nLa Qu      12\nBest        4\nIndep       1\nImpul       1\nName: Brand, dtype: int64\n['Hilto' 'IHG' 'La Qu' 'Choic' 'Marri' 'Apart' 'Best ' 'Impul' 'Indep']\n"
    }
   ],
   "source": [
    "unique_brands = cleaning_df['Brand'].unique()\n",
    "print(cleaning_df['Brand'].value_counts())\n",
    "print(unique_brands)"
   ]
  },
  {
   "cell_type": "code",
   "execution_count": 112,
   "metadata": {},
   "outputs": [
    {
     "data": {
      "text/plain": "Hilto    2316\nIHG       204\nLa Qu      12\nChoic      11\nMarri       7\nName: Brand, dtype: int64"
     },
     "execution_count": 112,
     "metadata": {},
     "output_type": "execute_result"
    }
   ],
   "source": [
    "#drop all hotels with activation date after 2019-01-01\n",
    "age_mask = cleaning_df['Activation Date'] <= '2019-01-01'\n",
    "\n",
    "#drop all hotels wtih a profit margin > 0.74 or < 0.44\n",
    "high_profit_mask = cleaning_df['Profit Margin'] < 0.74\n",
    "low_profit_mask = cleaning_df['Profit Margin'] > 0.44\n",
    "drop_masks = cleaning_df[age_mask & high_profit_mask & low_profit_mask].copy()\n",
    "drop_masks['Brand'].value_counts()"
   ]
  },
  {
   "cell_type": "code",
   "execution_count": 121,
   "metadata": {},
   "outputs": [
    {
     "name": "stdout",
     "output_type": "stream",
     "text": "['La Qu', 'Choic', 'Marri', 'Apart', 'Best ', 'Impul', 'Indep']\n"
    },
    {
     "data": {
      "text/plain": "Hilto    2316\nIHG       204\nName: Brand, dtype: int64"
     },
     "execution_count": 121,
     "metadata": {},
     "output_type": "execute_result"
    }
   ],
   "source": [
    "#create a list of brands with low reporting\n",
    "drop_brands = []\n",
    "for brand in unique_brands:\n",
    "    drop_brand_count = drop_masks[drop_masks['Brand'] == brand]\n",
    "    if len(drop_brand_count) <= 12:\n",
    "        drop_brands.append(brand)\n",
    "\n",
    "print(drop_brands)\n",
    "#drop all brands with less than 12 months reported\n",
    "\n",
    "low_count_mask = ~drop_masks['Brand'].isin(drop_brands)\n",
    "\n",
    "dropped_everything = drop_masks[low_count_mask].copy()\n",
    "dropped_everything['Brand'].value_counts()"
   ]
  },
  {
   "cell_type": "code",
   "execution_count": 125,
   "metadata": {},
   "outputs": [
    {
     "data": {
      "text/html": "<div>\n<style scoped>\n    .dataframe tbody tr th:only-of-type {\n        vertical-align: middle;\n    }\n\n    .dataframe tbody tr th {\n        vertical-align: top;\n    }\n\n    .dataframe thead th {\n        text-align: right;\n    }\n</style>\n<table border=\"1\" class=\"dataframe\">\n  <thead>\n    <tr style=\"text-align: right;\">\n      <th></th>\n      <th>Property Name</th>\n      <th>Property Code</th>\n      <th>Brand</th>\n      <th>#Rooms</th>\n      <th>Management Company</th>\n      <th>Activation Date</th>\n      <th>Revenue</th>\n      <th>Profit Margin</th>\n      <th>Gross Profit</th>\n      <th>Month of Reporting</th>\n      <th>Flag</th>\n      <th>is_hilton</th>\n    </tr>\n  </thead>\n  <tbody>\n    <tr>\n      <td>0</td>\n      <td>Hilton Garden Inn Times Square</td>\n      <td>NYCMW</td>\n      <td>Hilto</td>\n      <td>369.0</td>\n      <td>Highgate Hotels, Inc.</td>\n      <td>2017-10-27</td>\n      <td>48190.59</td>\n      <td>0.72970</td>\n      <td>35164.64</td>\n      <td>1</td>\n      <td>Hilto</td>\n      <td>True</td>\n    </tr>\n    <tr>\n      <td>1</td>\n      <td>InterContinental New Orleans</td>\n      <td>MSYHA</td>\n      <td>IHG</td>\n      <td>484.0</td>\n      <td>Dimension Development Company</td>\n      <td>2018-09-20</td>\n      <td>22829.80</td>\n      <td>0.67301</td>\n      <td>15364.72</td>\n      <td>1</td>\n      <td>Intercontinental Hotels</td>\n      <td>False</td>\n    </tr>\n    <tr>\n      <td>2</td>\n      <td>DoubleTree Suites by Hilton Hotel Boston - Cam...</td>\n      <td>BOSSB</td>\n      <td>Hilto</td>\n      <td>308.0</td>\n      <td>Hilton Worldwide</td>\n      <td>2018-06-11</td>\n      <td>22488.70</td>\n      <td>0.69884</td>\n      <td>15715.96</td>\n      <td>1</td>\n      <td>DoubleTree by Hilton</td>\n      <td>True</td>\n    </tr>\n    <tr>\n      <td>5</td>\n      <td>Crowne Plaza Lansing West</td>\n      <td>LANCP</td>\n      <td>IHG</td>\n      <td>212.0</td>\n      <td>IHG - Crowne Plaza</td>\n      <td>2018-10-26</td>\n      <td>611.00</td>\n      <td>0.60129</td>\n      <td>367.39</td>\n      <td>4</td>\n      <td>Crowne Plaza</td>\n      <td>False</td>\n    </tr>\n    <tr>\n      <td>6</td>\n      <td>Homewood Suites Savannah Historic District</td>\n      <td>SAVRB</td>\n      <td>Hilto</td>\n      <td>162.0</td>\n      <td>North Point Hospitality Group, Inc.</td>\n      <td>2018-04-10</td>\n      <td>14439.60</td>\n      <td>0.63231</td>\n      <td>9130.27</td>\n      <td>1</td>\n      <td>Homewood Suites by Hilton</td>\n      <td>True</td>\n    </tr>\n    <tr>\n      <td>...</td>\n      <td>...</td>\n      <td>...</td>\n      <td>...</td>\n      <td>...</td>\n      <td>...</td>\n      <td>...</td>\n      <td>...</td>\n      <td>...</td>\n      <td>...</td>\n      <td>...</td>\n      <td>...</td>\n      <td>...</td>\n    </tr>\n    <tr>\n      <td>4477</td>\n      <td>Hampton Inn Magnolia</td>\n      <td>AGOSN</td>\n      <td>Hilto</td>\n      <td>68.0</td>\n      <td>Shinn Enterprises</td>\n      <td>2018-04-03</td>\n      <td>835.85</td>\n      <td>0.60038</td>\n      <td>501.83</td>\n      <td>12</td>\n      <td>Hampt</td>\n      <td>True</td>\n    </tr>\n    <tr>\n      <td>4481</td>\n      <td>Tru by Hilton Bryan College Station</td>\n      <td>CLLCS</td>\n      <td>Hilto</td>\n      <td>98.0</td>\n      <td>Integral Hospitality Solutions, LLC</td>\n      <td>2018-08-27</td>\n      <td>809.84</td>\n      <td>0.67184</td>\n      <td>544.08</td>\n      <td>12</td>\n      <td>Tru by Hilton</td>\n      <td>True</td>\n    </tr>\n    <tr>\n      <td>4487</td>\n      <td>Comfort Suites Downtown Orlando</td>\n      <td>FL094</td>\n      <td>Choic</td>\n      <td>122.0</td>\n      <td>ONIX Hospitality</td>\n      <td>2017-07-13</td>\n      <td>762.75</td>\n      <td>0.58116</td>\n      <td>443.28</td>\n      <td>12</td>\n      <td>Comfort Suites</td>\n      <td>False</td>\n    </tr>\n    <tr>\n      <td>4498</td>\n      <td>Hampton Inn Greensboro-East</td>\n      <td>GSOEA</td>\n      <td>Hilto</td>\n      <td>78.0</td>\n      <td>We Care Hotels</td>\n      <td>2018-09-29</td>\n      <td>614.38</td>\n      <td>0.54211</td>\n      <td>333.06</td>\n      <td>12</td>\n      <td>Hampt</td>\n      <td>True</td>\n    </tr>\n    <tr>\n      <td>4502</td>\n      <td>Hilton Garden Inn Wilkes Barre</td>\n      <td>AVPWI</td>\n      <td>Hilto</td>\n      <td>123.0</td>\n      <td>High Hotels Ltd.</td>\n      <td>2015-06-02</td>\n      <td>563.39</td>\n      <td>0.61661</td>\n      <td>347.39</td>\n      <td>12</td>\n      <td>Hilto</td>\n      <td>True</td>\n    </tr>\n  </tbody>\n</table>\n<p>2550 rows × 12 columns</p>\n</div>",
      "text/plain": "                                          Property Name Property Code  Brand  \\\n0                        Hilton Garden Inn Times Square         NYCMW  Hilto   \n1                          InterContinental New Orleans         MSYHA    IHG   \n2     DoubleTree Suites by Hilton Hotel Boston - Cam...         BOSSB  Hilto   \n5                             Crowne Plaza Lansing West         LANCP    IHG   \n6            Homewood Suites Savannah Historic District         SAVRB  Hilto   \n...                                                 ...           ...    ...   \n4477                               Hampton Inn Magnolia         AGOSN  Hilto   \n4481                Tru by Hilton Bryan College Station         CLLCS  Hilto   \n4487                    Comfort Suites Downtown Orlando         FL094  Choic   \n4498                        Hampton Inn Greensboro-East         GSOEA  Hilto   \n4502                     Hilton Garden Inn Wilkes Barre         AVPWI  Hilto   \n\n      #Rooms                   Management Company Activation Date   Revenue  \\\n0      369.0                Highgate Hotels, Inc.      2017-10-27  48190.59   \n1      484.0        Dimension Development Company      2018-09-20  22829.80   \n2      308.0                     Hilton Worldwide      2018-06-11  22488.70   \n5      212.0                   IHG - Crowne Plaza      2018-10-26    611.00   \n6      162.0  North Point Hospitality Group, Inc.      2018-04-10  14439.60   \n...      ...                                  ...             ...       ...   \n4477    68.0                    Shinn Enterprises      2018-04-03    835.85   \n4481    98.0  Integral Hospitality Solutions, LLC      2018-08-27    809.84   \n4487   122.0                     ONIX Hospitality      2017-07-13    762.75   \n4498    78.0                       We Care Hotels      2018-09-29    614.38   \n4502   123.0                     High Hotels Ltd.      2015-06-02    563.39   \n\n      Profit Margin  Gross Profit  Month of Reporting  \\\n0           0.72970      35164.64                   1   \n1           0.67301      15364.72                   1   \n2           0.69884      15715.96                   1   \n5           0.60129        367.39                   4   \n6           0.63231       9130.27                   1   \n...             ...           ...                 ...   \n4477        0.60038        501.83                  12   \n4481        0.67184        544.08                  12   \n4487        0.58116        443.28                  12   \n4498        0.54211        333.06                  12   \n4502        0.61661        347.39                  12   \n\n                           Flag  is_hilton  \n0                         Hilto       True  \n1       Intercontinental Hotels      False  \n2          DoubleTree by Hilton       True  \n5                  Crowne Plaza      False  \n6     Homewood Suites by Hilton       True  \n...                         ...        ...  \n4477                      Hampt       True  \n4481              Tru by Hilton       True  \n4487             Comfort Suites      False  \n4498                      Hampt       True  \n4502                      Hilto       True  \n\n[2550 rows x 12 columns]"
     },
     "execution_count": 125,
     "metadata": {},
     "output_type": "execute_result"
    }
   ],
   "source": [
    "#create one-hot-encoded columns for Brands\n",
    "hilton_mask = drop_masks['Brand'] == 'Hilto'\n",
    "drop_masks['is_hilton'] = drop_masks['Brand'] == 'Hilto'\n",
    "# IHG_mask = drop_masks['Brand'] == 'IHG'\n",
    "# la_quinta_mask = drop_masks['Brand'] == 'La Qu'\n",
    "# choice_mask = drop_masks['Brand'] == 'Choic'\n",
    "# marriott_mask = drop_masks['Brand'] == 'Marri'\n",
    "drop_masks\n"
   ]
  },
  {
   "cell_type": "code",
   "execution_count": null,
   "metadata": {},
   "outputs": [],
   "source": []
  }
 ]
}