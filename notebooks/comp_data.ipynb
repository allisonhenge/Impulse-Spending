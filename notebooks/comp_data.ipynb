{
 "nbformat": 4,
 "nbformat_minor": 2,
 "metadata": {
  "language_info": {
   "name": "python",
   "codemirror_mode": {
    "name": "ipython",
    "version": 3
   },
   "version": "3.7.4-final"
  },
  "orig_nbformat": 2,
  "file_extension": ".py",
  "mimetype": "text/x-python",
  "name": "python",
  "npconvert_exporter": "python",
  "pygments_lexer": "ipython3",
  "version": 3,
  "kernelspec": {
   "name": "python37464bitbaseconda00633321aef34503b80c69b412f7a6cc",
   "display_name": "Python 3.7.4 64-bit ('base': conda)"
  }
 },
 "cells": [
  {
   "cell_type": "code",
   "execution_count": 9,
   "metadata": {},
   "outputs": [],
   "source": [
    "import numpy as np\n",
    "import pandas as pd\n",
    "\n",
    "from pandas import ExcelWriter\n",
    "from pandas import ExcelFile\n",
    "\n",
    "from hotel_class import Hotel\n",
    "import compare_data"
   ]
  },
  {
   "cell_type": "code",
   "execution_count": 3,
   "metadata": {},
   "outputs": [],
   "source": [
    "flag_groupings = pd.read_excel('../../../data/flag-groupings.xlsx')\n",
    "clean_sales_data = pd.read_csv('../../data/clean-sales-data.csv')"
   ]
  },
  {
   "cell_type": "code",
   "execution_count": 7,
   "metadata": {},
   "outputs": [],
   "source": [
    "\n",
    "name = 'The Make Believe Crowne'\n",
    "input_brand = 'IHG - International Hotel Group'\n",
    "input_flag = 'Crowne Plaza'\n",
    "input_rooms = 303\n",
    "input_specialty_type = 'None'\n",
    "input_occupancy_rate = 0.6\n",
    "input_revenue = 20018.67\n",
    "revenue_period = 'Quarterly'\n",
    "input_profit = 0.25\n",
    "profit_type = 'Profit Margin'\n",
    "profit_period = 'Monthly'\n",
    "\n",
    "customer_array = [name, input_brand, input_flag, input_rooms, input_specialty_type, \\\n",
    "input_occupancy_rate, input_revenue, revenue_period, input_profit, profit_type, profit_period]"
   ]
  },
  {
   "cell_type": "code",
   "execution_count": 10,
   "metadata": {},
   "outputs": [],
   "source": [
    "classified_hotel = Hotel(customer_array)\n",
    "customer_inputs = compare_data.create_hotel_variables(classified_hotel)\n",
    "comparison_df = compare_data.get_comparison_df(customer_inputs)"
   ]
  },
  {
   "cell_type": "code",
   "execution_count": 17,
   "metadata": {},
   "outputs": [],
   "source": [
    "def compare_data(comparison_df, customer_inputs):\n",
    "    name, brand, flag, num_rooms, room_range, size_subset, hotel_type, hotel_group, specialty_type, \\\n",
    "    occupancy_rate, current_revenue, current_profit, current_profit_margin, current_SPOR = customer_inputs\n",
    "\n",
    "    if type(comparison_df) == str or current_revenue == 'No Current Retail Revenue' or \\\n",
    "        current_profit_margin == 'Not Currently Profitable' or \\\n",
    "        hotel_group == 'Not Hotel' or hotel_type == 'Not Hotel' or \\\n",
    "        specialty_type != 'None':\n",
    "        results = \"Our robot could not compare your data to enough similar hotels to be accurate. \\\n",
    "        That just means we get to contact you directly through the email you've provided\"\n",
    "    else:\n",
    "        est_SPOR = comparison_df['SPOR'].mean()\n",
    "        change_SPOR = est_SPOR - current_SPOR\n",
    "        est_revenue = est_SPOR * (num_rooms*30.62*occupancy_rate)\n",
    "        change_revenue = est_revenue - current_revenue\n",
    "        cost = current_revenue - current_profit\n",
    "        est_profit = est_revenue - cost\n",
    "        est_profit_margin = est_profit/est_revenue\n",
    "        change_profit_margin = est_profit_margin - current_profit_margin\n",
    "        if change_SPOR <= 0:\n",
    "            results = \"Our robot could not compare your data to enough similar hotels to be accurate. \\\n",
    "            That just means we get to contact you directly through the email you've provided\"\n",
    "        else:\n",
    "            results = [name, current_SPOR, est_SPOR, change_SPOR, current_revenue, est_revenue, \\\n",
    "                        change_revenue, current_profit_margin, est_profit_margin, change_profit_margin]\n",
    "        # with open('saved_results.json', 'w') as filehandle:\n",
    "        #     json.dump(results, filehandle)\n",
    "    return results"
   ]
  },
  {
   "cell_type": "code",
   "execution_count": 18,
   "metadata": {},
   "outputs": [],
   "source": [
    "results = compare_data(comparison_df, customer_inputs)"
   ]
  },
  {
   "cell_type": "code",
   "execution_count": 19,
   "metadata": {},
   "outputs": [
    {
     "data": {
      "text/plain": "['The Make Believe Crowne',\n 0.8990340983804453,\n 1.4934689394773655,\n 0.5944348410969201,\n 5004.6675,\n 8313.717440891682,\n 3309.049940891682,\n 0.25,\n 0.548517176379112,\n 0.298517176379112]"
     },
     "execution_count": 19,
     "metadata": {},
     "output_type": "execute_result"
    }
   ],
   "source": [
    "results"
   ]
  },
  {
   "cell_type": "code",
   "execution_count": null,
   "metadata": {},
   "outputs": [],
   "source": []
  }
 ]
}